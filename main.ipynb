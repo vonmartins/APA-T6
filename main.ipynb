{
 "cells": [
  {
   "cell_type": "code",
   "execution_count": 1,
   "id": "f87857cc",
   "metadata": {},
   "outputs": [],
   "source": [
    "import alumno\n",
    "import horas"
   ]
  },
  {
   "cell_type": "code",
   "execution_count": 2,
   "id": "430c94be",
   "metadata": {},
   "outputs": [
    {
     "name": "stdout",
     "output_type": "stream",
     "text": [
      "Probando la función leeAlumnos:\n",
      "171\tBlanca Agirrebarrenetse 10  \t9\t9.5\n",
      "23\tCarles Balcell de Lara  5 \t    5\t4.8\n",
      "68\tDavid Garcia Fuster\t7.0\n"
     ]
    }
   ],
   "source": [
    "print(\"Probando la función leeAlumnos:\")\n",
    "alumnos = alumno.leeAlumnos('alumnos.txt')\n",
    "for nombre, obj in alumnos.items():\n",
    "    print(obj)"
   ]
  },
  {
   "cell_type": "code",
   "execution_count": 3,
   "id": "5a3feec7",
   "metadata": {},
   "outputs": [
    {
     "name": "stdout",
     "output_type": "stream",
     "text": [
      "\n",
      "Probando la función normalizaHoras:\n"
     ]
    }
   ],
   "source": [
    "print(\"\\nProbando la función normalizaHoras:\")\n",
    "horas.normalizaHoras('horas.txt', 'horas_normalizadas.txt')"
   ]
  },
  {
   "cell_type": "code",
   "execution_count": 4,
   "id": "f37afdb7",
   "metadata": {},
   "outputs": [
    {
     "name": "stdout",
     "output_type": "stream",
     "text": [
      "La llegada del tren está prevista a las 18:30\n",
      "Tenía su clase entre las 08:00 y las 10:30\n",
      "Se acaba a las 16:30\n",
      "Empieza a trabajar a las 07:00 de la mañana\n",
      "Es lo mismo 5 menos cuarto que 04:45\n",
      "Tenemos descanso hasta las 17:05\n",
      "Las campanadas son a las 00:00\n",
      "\n",
      "Son exactamente las 17:5\n",
      "Cuando llegó, ya eran las 11 de la tarde\n",
      "El examen es a las 17 de la tarde\n",
      "Cenamos en las 7 puertas\n",
      "No llegará antes de las 01:78\n",
      "Corrió la maratón en 32:31, pero no ganó\n",
      "Quedamos a las 23 en punto\n",
      "\n"
     ]
    }
   ],
   "source": [
    "with open('horas_normalizadas.txt', 'r', encoding='utf-8') as f:\n",
    "    print(f.read())"
   ]
  }
 ],
 "metadata": {
  "kernelspec": {
   "display_name": "Python 3",
   "language": "python",
   "name": "python3"
  },
  "language_info": {
   "codemirror_mode": {
    "name": "ipython",
    "version": 3
   },
   "file_extension": ".py",
   "mimetype": "text/x-python",
   "name": "python",
   "nbconvert_exporter": "python",
   "pygments_lexer": "ipython3",
   "version": "3.13.3"
  }
 },
 "nbformat": 4,
 "nbformat_minor": 5
}
